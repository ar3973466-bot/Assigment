{
 "cells": [
  {
   "cell_type": "markdown",
   "id": "8eb6b9cc-1471-4561-8f5a-7bd1c9e1f96f",
   "metadata": {},
   "source": [
    "   ### String Assigment"
   ]
  },
  {
   "cell_type": "markdown",
   "id": "7fd26042-2784-4d80-b64e-db40ef376f4a",
   "metadata": {},
   "source": [
    "1. Write a program that accepts a string from user. Your program should count and display number of\n",
    "vowels in that string. "
   ]
  },
  {
   "cell_type": "code",
   "execution_count": 3,
   "id": "98c1d63e-7415-4be0-99c8-ef462a6a7cce",
   "metadata": {},
   "outputs": [
    {
     "name": "stdin",
     "output_type": "stream",
     "text": [
      "Enter a string:  \"abdurrehman\"\n"
     ]
    },
    {
     "name": "stdout",
     "output_type": "stream",
     "text": [
      "Number of vowels in the string: 4\n"
     ]
    }
   ],
   "source": [
    "text = input(\"Enter a string: \")\n",
    "vowels = \"aeiou\"\n",
    "count = 0\n",
    "for char in text:\n",
    "    if char in vowels:\n",
    "        count += 1\n",
    "print(\"Number of vowels in the string:\", count)"
   ]
  },
  {
   "cell_type": "markdown",
   "id": "dd0eb2c7-381f-42cb-85ac-d42d43ed097a",
   "metadata": {},
   "source": [
    " 2. Write a program that reads a string from keyboard and display: \n",
    "* The number of uppercase letters in the string\n",
    "* The number of lowercase letters in the string\n",
    "* The number of digits in the string\n",
    "* The number of whitespace characters in the string \n"
   ]
  },
  {
   "cell_type": "code",
   "execution_count": 3,
   "id": "486e9a49-3ab3-46e1-9c74-daee098e6386",
   "metadata": {},
   "outputs": [
    {
     "name": "stdin",
     "output_type": "stream",
     "text": [
      "Enter a string:  if \n"
     ]
    },
    {
     "name": "stdout",
     "output_type": "stream",
     "text": [
      "Number of uppercase letters: 0\n",
      "Number of lowercase letters: 2\n",
      "Number of digits: 0\n",
      "Number of whitespace characters: 1\n"
     ]
    }
   ],
   "source": [
    "text = input(\"Enter a string: \")\n",
    "uppercase = 0\n",
    "lowercase = 0\n",
    "digits = 0\n",
    "whitespace = 0\n",
    "\n",
    "for ch in text:\n",
    "    if ch.isupper():\n",
    "        uppercase += 1\n",
    "    elif ch.islower():\n",
    "        lowercase += 1\n",
    "    elif ch.isdigit():\n",
    "        digits += 1\n",
    "    elif ch.isspace():\n",
    "        whitespace += 1\n",
    "\n",
    "print(\"Number of uppercase letters:\", uppercase)\n",
    "print(\"Number of lowercase letters:\", lowercase)\n",
    "print(\"Number of digits:\", digits)\n",
    "print(\"Number of whitespace characters:\", whitespace)\n"
   ]
  },
  {
   "cell_type": "markdown",
   "id": "929df6f7-eb7d-4327-94a4-ac1c6f52084f",
   "metadata": {},
   "source": [
    "3. Write a Python program that accepts a string from user. Your program should create and display a\n",
    "new string where the first and last characters have been exchanged.\n",
    "For example if the user enters the string 'HELLO' then new string would be 'OELLH'"
   ]
  },
  {
   "cell_type": "code",
   "execution_count": 15,
   "id": "233cbcad-ba42-44dc-8b15-670d1215e1ac",
   "metadata": {},
   "outputs": [
    {
     "name": "stdin",
     "output_type": "stream",
     "text": [
      "Enter a string:  HELLO\n"
     ]
    },
    {
     "name": "stdout",
     "output_type": "stream",
     "text": [
      "new string there the fist and last character is change: OELLH\n"
     ]
    }
   ],
   "source": [
    "text = input(\"Enter a string: \")\n",
    "if len(text) > 1:\n",
    " new_text = text[-1] + text[1:-1] + text[0]\n",
    "else:\n",
    " new_text = text\n",
    "print(\"new string there the fist and last character is change:\", new_text)"
   ]
  },
  {
   "cell_type": "markdown",
   "id": "641f7941-f95f-406b-951d-755da5f73aa9",
   "metadata": {},
   "source": [
    " 4. Write a Python program that accepts a string from user. Your program should create a new string in \n",
    "reverse of first string and display it.\n",
    "For example if the user enters the string 'EXAM' then new string would be 'MAXE' "
   ]
  },
  {
   "cell_type": "code",
   "execution_count": 23,
   "id": "f1adf393-e6d9-4aaa-af4c-f295826287a4",
   "metadata": {},
   "outputs": [
    {
     "name": "stdin",
     "output_type": "stream",
     "text": [
      "Enter a string:  Babar Azam\n"
     ]
    },
    {
     "name": "stdout",
     "output_type": "stream",
     "text": [
      "program should create a new reverse string  : mabar AzaB\n"
     ]
    }
   ],
   "source": [
    "text = input(\"Enter a string: \")\n",
    "if len(text) > 1:\n",
    " new_text = text[-1] + text[1:-1] + text[0]\n",
    "else:\n",
    " new_text = text\n",
    "print(\"program should create a new reverse string  :\", new_text)"
   ]
  },
  {
   "cell_type": "markdown",
   "id": "0d3d43a5-4ef9-4995-a06b-495f6036c56c",
   "metadata": {},
   "source": [
    " 5. Write a Python program that accepts a string from user. Your program should create a new string by \n",
    "shifting one position to left.\n",
    "For example if the user enters the string 'examination 2021' then new string would be 'xamination\n",
    "2021e' \n"
   ]
  },
  {
   "cell_type": "code",
   "execution_count": 20,
   "id": "9146e60f-1313-4122-b2c6-d0ed0438e9eb",
   "metadata": {},
   "outputs": [
    {
     "name": "stdin",
     "output_type": "stream",
     "text": [
      "Enter a string:  finalexam 2025\n"
     ]
    },
    {
     "name": "stdout",
     "output_type": "stream",
     "text": [
      "program create a new  shifting string one position to left  : inalexam 2025f\n"
     ]
    }
   ],
   "source": [
    "text = input(\"Enter a string: \")\n",
    "if len(text) > 1:\n",
    " new_text = text[1:] + text[0]\n",
    "else:\n",
    " new_text = text\n",
    "print(\"program create a new  shifting string one position to left  :\", new_text)"
   ]
  },
  {
   "cell_type": "markdown",
   "id": "28ef5c33-341b-49f0-aaf6-b177c36a04b2",
   "metadata": {},
   "source": [
    " 6. Write a program that asks the user to input his name and print its initials. Assuming that the user \n",
    "always types first name, middle name and last name and does not include any unnecessary spaces. \n",
    "For example, if the user enters Ajay Kumar Garg the program should display A. K. G.\n",
    "Note:Don't use split() method \n"
   ]
  },
  {
   "cell_type": "code",
   "execution_count": 19,
   "id": "10d4bcda-a9ab-46e2-a62c-1491c0677a3d",
   "metadata": {},
   "outputs": [
    {
     "name": "stdin",
     "output_type": "stream",
     "text": [
      "Enter your full name (first middle last):  Abdur Rehman Siddiqui\n"
     ]
    },
    {
     "name": "stdout",
     "output_type": "stream",
     "text": [
      "Your initials are: ARS\n"
     ]
    }
   ],
   "source": [
    "name = input(\"Enter your full name (first middle last): \")\n",
    "initials = \"\"\n",
    "initials += name[0].upper()\n",
    "for i in range(len(name)):\n",
    "    if name[i] == \" \" and i + 1 < len(name):\n",
    "      initials += name[i + 1].upper()\n",
    "print(\"Your initials are:\", initials)"
   ]
  },
  {
   "cell_type": "markdown",
   "id": "f3233d61-2607-4fb0-95ec-51046899468d",
   "metadata": {},
   "source": [
    "7. A palindrome is a string that reads the same backward as forward. For example, the words dad,\n",
    "madam and radar are all palindromes. Write a programs that determines whether the string is a\n",
    "palindrome. \n"
   ]
  },
  {
   "cell_type": "code",
   "execution_count": 25,
   "id": "8cd05bb3-ee56-4a54-8cd0-3e02deaa3b8d",
   "metadata": {},
   "outputs": [
    {
     "name": "stdin",
     "output_type": "stream",
     "text": [
      "Enter a string:  string\n"
     ]
    },
    {
     "name": "stdout",
     "output_type": "stream",
     "text": [
      "The string is not a palindrome.\n"
     ]
    }
   ],
   "source": [
    "text = input(\"Enter a string: \")\n",
    "text = text.lower()\n",
    "reversed_text = \"\"\n",
    "for i in range(len(text)-1, -1, -1):\n",
    "    reversed_text += text[i]\n",
    "if text == reversed_text:\n",
    "    print(\"The string is a palindrome.\")\n",
    "else:\n",
    "    print(\"The string is not a palindrome.\")"
   ]
  },
  {
   "cell_type": "markdown",
   "id": "b2d2efb2-7f12-4d80-93a7-9f2c6a12bd47",
   "metadata": {},
   "source": [
    "8. Write a program that display following output:\n",
    "SHIFT\n",
    "HIFTS\n",
    "IFTSH\n",
    "FTSHI\n",
    "TSHIF\n",
    "SHIFT"
   ]
  },
  {
   "cell_type": "code",
   "execution_count": 26,
   "id": "95096082-695f-416d-acd5-e133e1cadb78",
   "metadata": {},
   "outputs": [
    {
     "name": "stdout",
     "output_type": "stream",
     "text": [
      "SHIFT\n",
      "HIFTS\n",
      "IFTSH\n",
      "FTSHI\n",
      "TSHIF\n",
      "SHIFT\n"
     ]
    }
   ],
   "source": [
    "word = \"SHIFT\"\n",
    "for i in range(len(word) + 1):\n",
    "    shifted = word[i:] + word[:i]\n",
    "    print(shifted)"
   ]
  },
  {
   "cell_type": "markdown",
   "id": "53cbfc79-f03e-4136-b78e-e22ecdb7e9c9",
   "metadata": {},
   "source": [
    " 9. Write a program in python that accepts a string to setup a passwords. Your entered password must\n",
    "meet the following requirements: The password must be at least eight characters long.\n",
    "It must contain at least one uppercase letter.\n",
    "It must contain at least one lowercase letter.\n",
    "It must contain at least one numeric digit.\n",
    "Your program should should perform this validation. "
   ]
  },
  {
   "cell_type": "code",
   "execution_count": 6,
   "id": "b38c9ced-40de-41f4-b354-edfe07fced39",
   "metadata": {},
   "outputs": [
    {
     "name": "stdin",
     "output_type": "stream",
     "text": [
      "Enter your password:  nothig brother\n"
     ]
    },
    {
     "name": "stdout",
     "output_type": "stream",
     "text": [
      "Password is invalid ❌\n",
      "Requirements:\n",
      "- At least 8 characters long\n",
      "- At least 1 uppercase letter\n",
      "- At least 1 lowercase letter\n",
      "- At least 1 digit\n"
     ]
    }
   ],
   "source": [
    "password = input(\"Enter your password: \")\n",
    "has_upper = False\n",
    "has_lower = False\n",
    "has_digit = False\n",
    "if ch.isupper():\n",
    " has_upper = True\n",
    " if ch.isupper():\n",
    "   has_lower = True\n",
    " elif ch.isdigit():\n",
    "  has_digit = True\n",
    "if len(password) >= 8 and has_upper and has_lower and has_digit:\n",
    "    print(\"Password is valid ✅\")\n",
    "else:\n",
    "    print(\"Password is invalid ❌\")\n",
    "    print(\"Requirements:\")\n",
    "    print(\"- At least 8 characters long\")\n",
    "    print(\"- At least 1 uppercase letter\")\n",
    "    print(\"- At least 1 lowercase letter\")\n",
    "    print(\"- At least 1 digit\")"
   ]
  }
 ],
 "metadata": {
  "kernelspec": {
   "display_name": "Python 3 (ipykernel)",
   "language": "python",
   "name": "python3"
  },
  "language_info": {
   "codemirror_mode": {
    "name": "ipython",
    "version": 3
   },
   "file_extension": ".py",
   "mimetype": "text/x-python",
   "name": "python",
   "nbconvert_exporter": "python",
   "pygments_lexer": "ipython3",
   "version": "3.13.5"
  }
 },
 "nbformat": 4,
 "nbformat_minor": 5
}
