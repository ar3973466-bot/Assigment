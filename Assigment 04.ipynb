{
 "cells": [
  {
   "cell_type": "markdown",
   "id": "3c45eb41-c789-429c-9c78-c95054b3a094",
   "metadata": {},
   "source": [
    " ## List Assignment"
   ]
  },
  {
   "cell_type": "markdown",
   "id": "bf880ac1-08cd-4b5c-b28e-904cb7c2f1a5",
   "metadata": {},
   "source": [
    "1. Write a program that accepts a list from user and print the alternate element of list"
   ]
  },
  {
   "cell_type": "code",
   "execution_count": 3,
   "id": "b7012c7a-314f-42b6-8b29-2ebc74209cee",
   "metadata": {},
   "outputs": [
    {
     "name": "stdin",
     "output_type": "stream",
     "text": [
      "Enter elements of list separated by space:  who are you\n"
     ]
    },
    {
     "name": "stdout",
     "output_type": "stream",
     "text": [
      "Alternate elements of list are:\n",
      "who\n",
      "you\n"
     ]
    }
   ],
   "source": [
    "lst = input(\"Enter elements of list separated by space: \").split()\n",
    "print(\"Alternate elements of list are:\")\n",
    "for i in range(0, len(lst), 2):\n",
    "    print(lst[i])"
   ]
  },
  {
   "cell_type": "markdown",
   "id": "3ecc463f-c3c8-4a04-8cbf-3f4676fab8a1",
   "metadata": {},
   "source": [
    "2. Write a program that accepts a list from user. Your program should reverse the content of list and \n",
    "display it. Do not use reverse() method.  "
   ]
  },
  {
   "cell_type": "code",
   "execution_count": 4,
   "id": "1a5be122-9353-4375-ba56-7ce43f308cfb",
   "metadata": {},
   "outputs": [
    {
     "name": "stdin",
     "output_type": "stream",
     "text": [
      "Enter elements of list separated by space:  just say nothing\n"
     ]
    },
    {
     "name": "stdout",
     "output_type": "stream",
     "text": [
      "Reversed List: ['nothing', 'say', 'just']\n"
     ]
    }
   ],
   "source": [
    "lst = input(\"Enter elements of list separated by space: \").split()\n",
    "reversed_lst = []\n",
    "for i in range(len(lst)-1, -1, -1):\n",
    "    reversed_lst.append(lst[i])\n",
    "print(\"Reversed List:\", reversed_lst)"
   ]
  },
  {
   "cell_type": "markdown",
   "id": "9afd354e-ca16-4557-a798-c80a2aa6e426",
   "metadata": {},
   "source": [
    "3. Find and display the largest number of a list without using built-in function max(). Your program \n",
    "should ask the user to input values in list from keyboard. "
   ]
  },
  {
   "cell_type": "code",
   "execution_count": 5,
   "id": "afd2e508-d734-4b67-b0e3-98ccb2e8dcce",
   "metadata": {},
   "outputs": [
    {
     "name": "stdin",
     "output_type": "stream",
     "text": [
      "Enter numbers separated by space:  3 6 12\n"
     ]
    },
    {
     "name": "stdout",
     "output_type": "stream",
     "text": [
      "Largest number is: 12\n"
     ]
    }
   ],
   "source": [
    "lst = list(map(int, input(\"Enter numbers separated by space: \").split()))\n",
    "largest = lst[0]\n",
    "for num in lst:\n",
    "    if num > largest:\n",
    "        largest = num\n",
    "print(\"Largest number is:\", largest)"
   ]
  },
  {
   "cell_type": "markdown",
   "id": "39065d91-b916-453f-8469-303b669d5779",
   "metadata": {},
   "source": [
    "4. Write a program that rotates the element of a list so that the element at the first index moves to the \n",
    "second index, the element in the second index moves to the third index, etc., and the element in the last \n",
    "index moves to the first index.  "
   ]
  },
  {
   "cell_type": "code",
   "execution_count": 6,
   "id": "14bc86c5-ee44-4024-9815-ed94e680e323",
   "metadata": {},
   "outputs": [
    {
     "name": "stdin",
     "output_type": "stream",
     "text": [
      "Enter elements of list separated by space:  ali is lazy boy\n"
     ]
    },
    {
     "name": "stdout",
     "output_type": "stream",
     "text": [
      "Rotated List: ['boy', 'ali', 'is', 'lazy']\n"
     ]
    }
   ],
   "source": [
    "lst = input(\"Enter elements of list separated by space: \").split()\n",
    "rotated = [lst[-1]] + lst[:-1]\n",
    "print(\"Rotated List:\", rotated)"
   ]
  },
  {
   "cell_type": "markdown",
   "id": "1bd3689e-63db-4576-8b41-9afc937c575d",
   "metadata": {},
   "source": [
    "5. Write a program that input a string and ask user to delete a given word from a string. "
   ]
  },
  {
   "cell_type": "code",
   "execution_count": 9,
   "id": "7905de57-e80d-4354-8e2e-5e442ccc67b1",
   "metadata": {},
   "outputs": [
    {
     "name": "stdin",
     "output_type": "stream",
     "text": [
      "Enter a string:  virat kholi Babar Azam\n",
      "Enter word to delete:  virat kholi\n"
     ]
    },
    {
     "name": "stdout",
     "output_type": "stream",
     "text": [
      "String after deletion: Babar Azam\n"
     ]
    }
   ],
   "source": [
    "s = input(\"Enter a string: \")\n",
    "word = input(\"Enter word to delete: \")\n",
    "new_s = s.replace(word, \"\")\n",
    "print(\"String after deletion:\", new_s.strip())"
   ]
  },
  {
   "cell_type": "markdown",
   "id": "56b0ba05-b35f-4d06-9e80-8de87f9b0e32",
   "metadata": {},
   "source": [
    "6. Write a program that reads a string from the user containing a date in the form mm/dd/yyyy. It \n",
    "should print the date in the form March 12, 2021.  "
   ]
  },
  {
   "cell_type": "code",
   "execution_count": 13,
   "id": "27905866-a9c3-4267-b3ee-abf69f691f5f",
   "metadata": {},
   "outputs": [
    {
     "name": "stdin",
     "output_type": "stream",
     "text": [
      "Enter date (mm/dd/yyyy):  3/12/2021\n"
     ]
    },
    {
     "name": "stdout",
     "output_type": "stream",
     "text": [
      "March 12, 2021\n"
     ]
    }
   ],
   "source": [
    "months = [\"January\",\"February\",\"March\",\"April\",\"May\",\"June\",\n",
    "          \"July\",\"August\",\"September\",\"October\",\"November\",\"December\"]\n",
    "\n",
    "date = input(\"Enter date (mm/dd/yyyy): \")\n",
    "mm, dd, yyyy = date.split(\"/\")\n",
    "mm = int(mm)\n",
    "print(f\"{months[mm-1]} {int(dd)}, {yyyy}\")"
   ]
  },
  {
   "cell_type": "markdown",
   "id": "5a1402e3-b7ac-4de1-b930-677f66cc8a09",
   "metadata": {},
   "source": [
    "7. Write a program with a function that accepts a string from keyboard and create a new string after \n",
    "converting character of each word capitalized. For instance, if the sentence is \"stop and smell the roses.\" \n",
    "the output should be \"Stop And Smell The Roses\" "
   ]
  },
  {
   "cell_type": "code",
   "execution_count": 16,
   "id": "4c6d111e-9a08-4734-b635-be4acf297a3f",
   "metadata": {},
   "outputs": [
    {
     "name": "stdin",
     "output_type": "stream",
     "text": [
      "Enter a sentence:  i like to play circket\n"
     ]
    },
    {
     "name": "stdout",
     "output_type": "stream",
     "text": [
      "Converted String: I Like To Play Circket\n"
     ]
    }
   ],
   "source": [
    "def capitalize_words(sentence):\n",
    "    words = sentence.split()\n",
    "    result = \"\"\n",
    "    for word in words:\n",
    "        result += word.capitalize() + \" \"\n",
    "    return result.strip()\n",
    "s = input(\"Enter a sentence: \")\n",
    "print(\"Converted String:\", capitalize_words(s))"
   ]
  },
  {
   "cell_type": "markdown",
   "id": "8892373d-68c9-4ce6-acc2-5b01a827dde1",
   "metadata": {},
   "source": [
    "8. Find the sum of each row of matrix of size m x n. For example for the following matrix output will be \n",
    "like this : \n",
    "Sum of row 1 = 32 \n",
    "Sum of row 2 = 31 \n",
    "Sum of row 3 = 63"
   ]
  },
  {
   "cell_type": "code",
   "execution_count": 1,
   "id": "0e41fc97-c500-4a37-a262-12f5ce12d659",
   "metadata": {},
   "outputs": [
    {
     "name": "stdin",
     "output_type": "stream",
     "text": [
      "Enter number of rows:  2\n",
      "Enter number of columns:  2\n",
      "Enter row 1 elements:  1\n",
      "Enter row 2 elements:  2\n"
     ]
    },
    {
     "name": "stdout",
     "output_type": "stream",
     "text": [
      "Sum of row 1 = 1\n",
      "Sum of row 2 = 2\n"
     ]
    }
   ],
   "source": [
    "m = int(input(\"Enter number of rows: \"))\n",
    "n = int(input(\"Enter number of columns: \"))\n",
    "matrix = []\n",
    "for i in range(m):\n",
    "    row = list(map(int, input(f\"Enter row {i+1} elements: \").split()))\n",
    "    matrix.append(row)\n",
    "for i in range(m):\n",
    "    print(f\"Sum of row {i+1} = {sum(matrix[i])}\")"
   ]
  },
  {
   "cell_type": "markdown",
   "id": "1a1c1270-8969-472a-8edc-88cf12983471",
   "metadata": {},
   "source": [
    "9. Write a program to add two matrices of size n x m."
   ]
  },
  {
   "cell_type": "code",
   "execution_count": 7,
   "id": "8c525e28-27e1-4888-a75b-65e278cddff2",
   "metadata": {},
   "outputs": [
    {
     "name": "stdin",
     "output_type": "stream",
     "text": [
      "Enter number of rows (n):  2\n",
      "Enter number of columns (m):  3\n"
     ]
    },
    {
     "name": "stdout",
     "output_type": "stream",
     "text": [
      "Enter elements of first matrix:\n"
     ]
    },
    {
     "name": "stdin",
     "output_type": "stream",
     "text": [
      "A[0][0] =  1\n",
      "A[0][1] =  2\n",
      "A[0][2] =  3\n",
      "A[1][0] =  4\n",
      "A[1][1] =  5\n",
      "A[1][2] =  6\n"
     ]
    },
    {
     "name": "stdout",
     "output_type": "stream",
     "text": [
      "Enter elements of second matrix:\n"
     ]
    },
    {
     "name": "stdin",
     "output_type": "stream",
     "text": [
      "B[0][0] =  7\n",
      "B[0][1] =  8\n",
      "B[0][2] =  9\n",
      "B[1][0] =  1\n",
      "B[1][1] =  2\n",
      "B[1][2] =  3\n"
     ]
    },
    {
     "name": "stdout",
     "output_type": "stream",
     "text": [
      "\n",
      "Resultant Matrix (A + B):\n",
      "[8, 10, 12]\n",
      "[5, 7, 9]\n"
     ]
    }
   ],
   "source": [
    "n = int(input(\"Enter number of rows (n): \"))\n",
    "m = int(input(\"Enter number of columns (m): \"))\n",
    "print(\"Enter elements of first matrix:\")\n",
    "A = [[int(input(f\"A[{i}][{j}] = \")) for j in range(m)] for i in range(n)]\n",
    "print(\"Enter elements of second matrix:\")\n",
    "B = [[int(input(f\"B[{i}][{j}] = \")) for j in range(m)] for i in range(n)]\n",
    "C = [[A[i][j] + B[i][j] for j in range(m)] for i in range(n)]\n",
    "print(\"\\nResultant Matrix (A + B):\")\n",
    "for row in C:\n",
    "    print(row)"
   ]
  },
  {
   "cell_type": "markdown",
   "id": "5765c3b2-c9ea-4bed-87fc-996b33bfd074",
   "metadata": {},
   "source": [
    "## 10. Write a program to multiply two matrices"
   ]
  },
  {
   "cell_type": "code",
   "execution_count": 1,
   "id": "fe15c2e8-4d6b-45c0-a6bc-ab59b1a7ce88",
   "metadata": {},
   "outputs": [
    {
     "name": "stdin",
     "output_type": "stream",
     "text": [
      "Enter number of rows in first matrix (n):  2\n",
      "Enter number of columns in first matrix (m):  3\n"
     ]
    },
    {
     "name": "stdout",
     "output_type": "stream",
     "text": [
      "For multiplication, number of rows in second matrix must be 3\n"
     ]
    },
    {
     "name": "stdin",
     "output_type": "stream",
     "text": [
      "Enter number of columns in second matrix (p):  2\n"
     ]
    },
    {
     "name": "stdout",
     "output_type": "stream",
     "text": [
      "Enter elements of first matrix:\n"
     ]
    },
    {
     "name": "stdin",
     "output_type": "stream",
     "text": [
      "A[0][0] =  1\n",
      "A[0][1] =  2\n",
      "A[0][2] =  3\n",
      "A[1][0] =  4\n",
      "A[1][1] =  5\n",
      "A[1][2] =  6\n"
     ]
    },
    {
     "name": "stdout",
     "output_type": "stream",
     "text": [
      "Enter elements of second matrix:\n"
     ]
    },
    {
     "name": "stdin",
     "output_type": "stream",
     "text": [
      "B[0][0] =  7\n",
      "B[0][1] =  8\n",
      "B[1][0] =  9\n",
      "B[1][1] =  10\n",
      "B[2][0] =  11\n",
      "B[2][1] =  12\n"
     ]
    },
    {
     "name": "stdout",
     "output_type": "stream",
     "text": [
      "\n",
      "Resultant Matrix (A × B):\n",
      "[58, 64]\n",
      "[139, 154]\n"
     ]
    }
   ],
   "source": [
    "n = int(input(\"Enter number of rows in first matrix (n): \"))\n",
    "m = int(input(\"Enter number of columns in first matrix (m): \"))\n",
    "print(\"For multiplication, number of rows in second matrix must be\", m)\n",
    "p = int(input(\"Enter number of columns in second matrix (p): \"))\n",
    "print(\"Enter elements of first matrix:\")\n",
    "A = [[int(input(f\"A[{i}][{j}] = \")) for j in range(m)] for i in range(n)]\n",
    "print(\"Enter elements of second matrix:\")\n",
    "B = [[int(input(f\"B[{i}][{j}] = \")) for j in range(p)] for i in range(m)]\n",
    "C = [[0 for _ in range(p)] for _ in range(n)]\n",
    "for i in range(n):\n",
    "    for j in range(p):\n",
    "        for k in range(m):\n",
    "            C[i][j] += A[i][k] * B[k][j]\n",
    "print(\"\\nResultant Matrix (A × B):\")\n",
    "for row in C:\n",
    "    print(row)"
   ]
  }
 ],
 "metadata": {
  "kernelspec": {
   "display_name": "Python 3 (ipykernel)",
   "language": "python",
   "name": "python3"
  },
  "language_info": {
   "codemirror_mode": {
    "name": "ipython",
    "version": 3
   },
   "file_extension": ".py",
   "mimetype": "text/x-python",
   "name": "python",
   "nbconvert_exporter": "python",
   "pygments_lexer": "ipython3",
   "version": "3.13.5"
  }
 },
 "nbformat": 4,
 "nbformat_minor": 5
}
