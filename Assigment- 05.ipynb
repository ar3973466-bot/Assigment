{
 "cells": [
  {
   "cell_type": "markdown",
   "id": "77708b60-ef1d-47eb-9c76-64f627d00ad8",
   "metadata": {},
   "source": [
    "# loops"
   ]
  },
  {
   "cell_type": "raw",
   "id": "30cc757d-a6b8-47a6-9f49-150978d7aed9",
   "metadata": {},
   "source": [
    "1. Write a Python program to print the numbers from 1 to 10 using a for loop.   "
   ]
  },
  {
   "cell_type": "code",
   "execution_count": 3,
   "id": "a1be89d4-4ec0-4bbc-a5d9-dc6f50e14655",
   "metadata": {},
   "outputs": [
    {
     "name": "stdout",
     "output_type": "stream",
     "text": [
      "1 2 3 4 5 6 7 8 9 10 \n",
      "\n"
     ]
    }
   ],
   "source": [
    "for i in range(1, 11):\n",
    "    print(i, end=\" \")\n",
    "print(\"\\n\")"
   ]
  },
  {
   "cell_type": "raw",
   "id": "62ec570c-234e-4c3c-94a2-45d9f2d46c01",
   "metadata": {},
   "source": [
    "2. Write a Python program to print the numbers from 20 to 1 using a while loop. "
   ]
  },
  {
   "cell_type": "code",
   "execution_count": 4,
   "id": "81cae2ba-6373-4e8c-9a1b-a1dd90309d59",
   "metadata": {},
   "outputs": [
    {
     "name": "stdout",
     "output_type": "stream",
     "text": [
      "20 19 18 17 16 15 14 13 12 11 10 9 8 7 6 5 4 3 2 1 \n",
      "\n"
     ]
    }
   ],
   "source": [
    "i = 20\n",
    "while i >= 1:\n",
    "    print(i, end=\" \")\n",
    "    i -= 1\n",
    "print(\"\\n\")"
   ]
  },
  {
   "cell_type": "raw",
   "id": "7943c14c-e3b5-48a0-87cf-a6a542241bdd",
   "metadata": {},
   "source": [
    "3. Write a program to print even numbers from 1 to 10."
   ]
  },
  {
   "cell_type": "code",
   "execution_count": 5,
   "id": "70afc0b0-30b7-41a1-af4a-19688b6da3dc",
   "metadata": {},
   "outputs": [
    {
     "name": "stdout",
     "output_type": "stream",
     "text": [
      "2 4 6 8 10 \n",
      "\n"
     ]
    }
   ],
   "source": [
    "for i in range(1, 11):\n",
    "    if i % 2 == 0:\n",
    "        print(i, end=\" \")\n",
    "print(\"\\n\")"
   ]
  },
  {
   "cell_type": "raw",
   "id": "765bb37a-d292-486c-8f89-13303dda5f0e",
   "metadata": {},
   "source": [
    "4. Write a program that prompts the user to enter a number n and prints all the \n",
    "numbers from 1 to n."
   ]
  },
  {
   "cell_type": "code",
   "execution_count": 1,
   "id": "10bcaf78-f4c2-4b38-9304-139d0c46dad2",
   "metadata": {},
   "outputs": [
    {
     "name": "stdin",
     "output_type": "stream",
     "text": [
      "Enter a number:  18\n"
     ]
    },
    {
     "name": "stdout",
     "output_type": "stream",
     "text": [
      "1 2 3 4 5 6 7 8 9 10 11 12 13 14 15 16 17 18 \n",
      "\n"
     ]
    }
   ],
   "source": [
    "n = int(input(\"Enter a number 1 to n: \"))\n",
    "for i in range(1, n + 1):\n",
    "    print(i, end=\" \")\n",
    "print(\"\\n\")"
   ]
  },
  {
   "cell_type": "raw",
   "id": "7e179734-9dbb-4ea3-a817-d33cf3e5d8a1",
   "metadata": {},
   "source": [
    "5. Write a program that prompts the user to enter a number n, and then prints all the \n",
    "odd numbers between 1 and n."
   ]
  },
  {
   "cell_type": "code",
   "execution_count": 4,
   "id": "29da4fef-6371-44cd-8f2f-7b78a6bd7929",
   "metadata": {},
   "outputs": [
    {
     "name": "stdin",
     "output_type": "stream",
     "text": [
      "Enter a  odd number :  19\n"
     ]
    },
    {
     "name": "stdout",
     "output_type": "stream",
     "text": [
      "1 3 5 7 9 11 13 15 17 19 \n",
      "\n"
     ]
    }
   ],
   "source": [
    "n = int(input(\"Enter a  odd number : \"))\n",
    "for i in range(1, n + 1):\n",
    "    if i % 2 != 0:\n",
    "        print(i, end=\" \")\n",
    "print(\"\\n\")"
   ]
  },
  {
   "cell_type": "raw",
   "id": "9e8cd8ea-6fad-4bf8-9116-bc79ad76e11b",
   "metadata": {},
   "source": [
    "6. Write a program that prints 'Happy Birthday!' five times on screen."
   ]
  },
  {
   "cell_type": "code",
   "execution_count": 8,
   "id": "6bb0b8c9-31fe-4bb2-9f72-e32d240bd27b",
   "metadata": {},
   "outputs": [
    {
     "name": "stdout",
     "output_type": "stream",
     "text": [
      "Happy Birthday!\n",
      "Happy Birthday!\n",
      "Happy Birthday!\n",
      "Happy Birthday!\n",
      "Happy Birthday!\n",
      "\n",
      "\n"
     ]
    }
   ],
   "source": [
    "for i in range(5):\n",
    "    print(\"Happy Birthday!\")\n",
    "print(\"\\n\")"
   ]
  },
  {
   "cell_type": "raw",
   "id": "bfbe767c-8b64-4d3c-b159-48e5331f5d98",
   "metadata": {},
   "source": [
    "7. Write a program that takes a number n as input from the user and generates the first \n",
    "n terms of the series formed by squaring the natural numbers.\n",
    "Sample output \n",
    "Enter a number: 6 \n",
    "The first 6 terms of the series are: \n",
    "1 4 9 16 25 36"
   ]
  },
  {
   "cell_type": "code",
   "execution_count": 3,
   "id": "b7ae013c-13dc-4c7d-85cc-af84a610a8a6",
   "metadata": {},
   "outputs": [
    {
     "name": "stdin",
     "output_type": "stream",
     "text": [
      "Enter a  natural number :  20\n"
     ]
    },
    {
     "name": "stdout",
     "output_type": "stream",
     "text": [
      "The first 20 terms of the series are:\n",
      "1 4 9 16 25 36 49 64 81 100 121 144 169 196 225 256 289 324 361 400 \n",
      "\n"
     ]
    }
   ],
   "source": [
    "n = int(input(\"Enter a  natural number : \"))\n",
    "print(\"The first\", n, \"terms of the series are:\")\n",
    "for i in range(1, n + 1):\n",
    "    print(i * i, end=\" \")\n",
    "print(\"\\n\")"
   ]
  },
  {
   "cell_type": "raw",
   "id": "03480e67-6ed6-4841-b393-427a197897e2",
   "metadata": {},
   "source": [
    "8. Write a program that prompts the user to input a number and prints its multiplication \n",
    "table."
   ]
  },
  {
   "cell_type": "code",
   "execution_count": 5,
   "id": "f5a434d7-d862-4256-9c07-071e40298aa1",
   "metadata": {},
   "outputs": [
    {
     "name": "stdin",
     "output_type": "stream",
     "text": [
      "Enter any number :  8\n"
     ]
    },
    {
     "name": "stdout",
     "output_type": "stream",
     "text": [
      "Multiplication table of 8\n",
      "8 x 1 = 8\n",
      "8 x 2 = 16\n",
      "8 x 3 = 24\n",
      "8 x 4 = 32\n",
      "8 x 5 = 40\n",
      "8 x 6 = 48\n",
      "8 x 7 = 56\n",
      "8 x 8 = 64\n",
      "8 x 9 = 72\n",
      "8 x 10 = 80\n",
      "\n",
      "\n"
     ]
    }
   ],
   "source": [
    "num = int(input(\"Enter any number : \"))\n",
    "print(\"Multiplication table of\", num)\n",
    "for i in range(1, 11):\n",
    "    print(num, \"x\", i, \"=\", num * i)\n",
    "print(\"\\n\")"
   ]
  },
  {
   "cell_type": "raw",
   "id": "dea247a4-100b-419d-8236-156e48ed6e6b",
   "metadata": {},
   "source": [
    "9. Write a Python program to print the first 8 terms of an arithmetic progression starting \n",
    "with 3 and having a common difference of 4. \n",
    "The program should output the following sequence: \n",
    "3 7 11 15 19 23 27 31 "
   ]
  },
  {
   "cell_type": "code",
   "execution_count": 13,
   "id": "af1d309c-40ac-42c7-a9a8-4493fc93d47e",
   "metadata": {},
   "outputs": [
    {
     "name": "stdout",
     "output_type": "stream",
     "text": [
      "3 7 11 15 19 23 27 31 \n",
      "\n"
     ]
    }
   ],
   "source": [
    "a, d = 3, 4\n",
    "for i in range(8):\n",
    "    print(a + i * d, end=\" \")\n",
    "print(\"\\n\")"
   ]
  },
  {
   "cell_type": "raw",
   "id": "9bd91140-eb3c-48a5-aaeb-fa7f34ffedeb",
   "metadata": {},
   "source": [
    "10. Write a Python program to print the first 6 terms of a geometric sequence starting \n",
    "with 2 and having a common ratio of 3. \n",
    "The program should output the following sequence: \n",
    "2 6 18 54 162 486 "
   ]
  },
  {
   "cell_type": "code",
   "execution_count": 14,
   "id": "be439a6d-def8-4e0b-b712-d2f7b1063c2b",
   "metadata": {},
   "outputs": [
    {
     "name": "stdout",
     "output_type": "stream",
     "text": [
      "2 6 18 54 162 486 \n",
      "\n"
     ]
    }
   ],
   "source": [
    "a, r = 2, 3\n",
    "for i in range(6):\n",
    "    print(a * (r ** i), end=\" \")\n",
    "print(\"\\n\")"
   ]
  },
  {
   "cell_type": "raw",
   "id": "db05edd3-3077-42e8-bac7-846e527acff2",
   "metadata": {},
   "source": [
    "11. Write a program that asks the user for a positive integer value. The program should \n",
    "calculate the sum of all the integers from 1 up to the number entered. For example, if \n",
    "the user enters 20, the loop will find the sum of 1, 2, 3, 4, ... 20. "
   ]
  },
  {
   "cell_type": "code",
   "execution_count": 7,
   "id": "c833c51c-e73b-48cf-ad22-efc9bd519689",
   "metadata": {},
   "outputs": [
    {
     "name": "stdin",
     "output_type": "stream",
     "text": [
      "Enter a positive integer value :  34\n"
     ]
    },
    {
     "name": "stdout",
     "output_type": "stream",
     "text": [
      "The sum from 1 to 34 is: 595\n",
      "\n",
      "\n"
     ]
    }
   ],
   "source": [
    "n = int(input(\"Enter a positive integer value : \"))\n",
    "total = 0\n",
    "for i in range(1, n + 1):\n",
    "    total += i\n",
    "print(\"The sum from 1 to\", n, \"is:\", total)\n",
    "print(\"\\n\")"
   ]
  },
  {
   "cell_type": "raw",
   "id": "24f0ebf2-ac08-4aad-ba51-d7958ee07016",
   "metadata": {},
   "source": [
    "12. write a program that takes a positive integer N as input and calculates the sum of \n",
    "the reciprocals of all numbers from 1 up to N. The program should display the final sum.\n",
    "Output of the program should be like: \n",
    "Enter a positive integer: 5 \n",
    "The sum of reciprocals from 1 to 5 is: 2.28 "
   ]
  },
  {
   "cell_type": "code",
   "execution_count": 16,
   "id": "be0069a6-1021-4695-beec-844c9cd7f6df",
   "metadata": {},
   "outputs": [
    {
     "name": "stdin",
     "output_type": "stream",
     "text": [
      "Enter a positive integer (Q12):  6\n"
     ]
    },
    {
     "name": "stdout",
     "output_type": "stream",
     "text": [
      "The sum of reciprocals from 1 to 6 is: 2.45\n",
      "\n",
      "\n"
     ]
    }
   ],
   "source": [
    "N = int(input(\"Enter a positive integer : \"))\n",
    "rec_sum = 0\n",
    "for i in range(1, N + 1):\n",
    "    rec_sum += 1 / i\n",
    "print(\"The sum of reciprocals from 1 to\", N, \"is:\", round(rec_sum, 2))\n",
    "print(\"\\n\")"
   ]
  },
  {
   "cell_type": "raw",
   "id": "f58d8159-6ffd-4da1-a982-8a711a7daf8b",
   "metadata": {},
   "source": [
    "13. Write a program that prompts the user to enter a number and repeats this process 5 \n",
    "times. The program should accumulate the numbers entered and then display the final \n",
    "running total. \n",
    "Sample Output: \n",
    "Enter a number: 10 \n",
    "Enter a number: 15 \n",
    "Enter a number: 35 \n",
    "Enter a number: 40 \n",
    "Enter a number: 50 \n",
    "The final running total is: 150 "
   ]
  },
  {
   "cell_type": "code",
   "execution_count": 1,
   "id": "c96b342c-8e81-42a7-951e-afd1b8510e59",
   "metadata": {},
   "outputs": [
    {
     "name": "stdin",
     "output_type": "stream",
     "text": [
      "Enter a number :  100\n",
      "Enter a number :  40\n",
      "Enter a number :  60\n",
      "Enter a number :  50\n",
      "Enter a number :  64\n"
     ]
    },
    {
     "name": "stdout",
     "output_type": "stream",
     "text": [
      "The final running total is: 314\n",
      "\n",
      "\n"
     ]
    }
   ],
   "source": [
    "total = 0\n",
    "for i in range(5):\n",
    "    num = int(input(\"Enter a number : \"))\n",
    "    total += num\n",
    "print(\"The final running total is:\", total)\n",
    "print(\"\\n\")"
   ]
  },
  {
   "cell_type": "raw",
   "id": "58dc2929-a2f5-4abc-8a68-4bfe560f90f1",
   "metadata": {},
   "source": [
    "14. Write a program that prompts the user to enter a positive integer and calculates its \n",
    "factorial. The factorial of a positive integer 'n' is denoted as 'n!' and is calculated by \n",
    "multiplying all the integers from 1 to 'n' together. For example, the factorial of 5 \n",
    "(denoted as 5!) is calculated as 1 x 2 x 3 x 4 x 5. \n",
    "The program should display the factorial value if the input is a positive number, or\n",
    "display a message stating that the factorial does not exist for negative numbers. \n",
    "Additionally, for an input of zero, the program should output that the factorial of 0 is 1.  "
   ]
  },
  {
   "cell_type": "code",
   "execution_count": 6,
   "id": "ba57bd9f-c5ea-40e1-9a87-84fc5ffcce5a",
   "metadata": {},
   "outputs": [
    {
     "name": "stdin",
     "output_type": "stream",
     "text": [
      "Enter a positive integer:  6\n"
     ]
    },
    {
     "name": "stdout",
     "output_type": "stream",
     "text": [
      "The factorial of 6 is 720\n"
     ]
    }
   ],
   "source": [
    "num = int(input(\"Enter a positive integer: \"))\n",
    "\n",
    "if num < 0:\n",
    "    print(\"Factorial does not exist for negative numbers.\")\n",
    "elif num == 0:\n",
    "    print(\"The factorial of 0 is 1\")\n",
    "else:\n",
    "    factorial = 1\n",
    "    for i in range(1, num + 1):\n",
    "        factorial *= i\n",
    "    print(\"The factorial of\", num, \"is\", factorial)"
   ]
  },
  {
   "cell_type": "raw",
   "id": "82e5a703-5097-4bdc-a348-476b75ff27d0",
   "metadata": {},
   "source": [
    "15. Write a Python program that prompts the user to enter a base number and an \n",
    "exponent, and then calculates the power of the base to the exponent. The program \n",
    "should not use the exponentiation operator (**) or the math.pow() function. The \n",
    "program should handle both positive and negative exponents. "
   ]
  },
  {
   "cell_type": "code",
   "execution_count": 7,
   "id": "4ccb2baa-0bea-400a-b666-9c230faa78ae",
   "metadata": {},
   "outputs": [
    {
     "name": "stdin",
     "output_type": "stream",
     "text": [
      "Enter the base number:  6\n",
      "Enter the exponent:  5\n"
     ]
    },
    {
     "name": "stdout",
     "output_type": "stream",
     "text": [
      "6.0 raised to the power of 5 is 7776.0\n"
     ]
    }
   ],
   "source": [
    "base = float(input(\"Enter the base number: \"))\n",
    "exponent = int(input(\"Enter the exponent: \"))\n",
    "\n",
    "result = 1\n",
    "\n",
    "if exponent > 0:\n",
    "    for i in range(exponent):\n",
    "        result *= base\n",
    "elif exponent < 0:\n",
    "    for i in range(-exponent):\n",
    "        result *= base\n",
    "    result = 1 / result\n",
    "else:  # exponent == 0\n",
    "    result = 1\n",
    "\n",
    "print(base, \"raised to the power of\", exponent, \"is\", result)"
   ]
  }
 ],
 "metadata": {
  "kernelspec": {
   "display_name": "Python 3 (ipykernel)",
   "language": "python",
   "name": "python3"
  },
  "language_info": {
   "codemirror_mode": {
    "name": "ipython",
    "version": 3
   },
   "file_extension": ".py",
   "mimetype": "text/x-python",
   "name": "python",
   "nbconvert_exporter": "python",
   "pygments_lexer": "ipython3",
   "version": "3.13.5"
  }
 },
 "nbformat": 4,
 "nbformat_minor": 5
}
